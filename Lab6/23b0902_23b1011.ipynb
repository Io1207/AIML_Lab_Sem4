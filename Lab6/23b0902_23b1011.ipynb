{
 "cells": [
  {
   "cell_type": "code",
   "execution_count": 1,
   "metadata": {},
   "outputs": [],
   "source": [
    "import numpy as np\n",
    "import pandas as pd\n",
    "from sklearn.model_selection import train_test_split\n",
    "from sklearn.preprocessing import StandardScaler\n",
    "from sklearn.svm import SVC\n",
    "from sklearn.metrics import classification_report\n"
   ]
  },
  {
   "cell_type": "code",
   "execution_count": 2,
   "metadata": {},
   "outputs": [],
   "source": [
    "train_data=pd.read_csv(r\"./mnist_train.csv\")\n",
    "test_data=pd.read_csv(r\"./mnist_test.csv\")\n",
    "\n",
    "train_data=train_data.to_numpy()    # train_data shape: (60000, 785)\n",
    "m, n = train_data.shape\n",
    "test_data=test_data.to_numpy()      # test_data shape: (10000, 785)\n",
    "\n",
    "X_train=train_data[:,1:]            # X_train shape: (60000, 784)\n",
    "y_train=train_data[:,0]             # y_train shape: (60000,)\n",
    "X_test=test_data[:,1:]              # X_test shape: (10000, 784)\n",
    "y_test=test_data[:,0]               # y_test shape: (10000,)\n",
    "\n",
    "X_train = X_train / 255.0           # Normalizing the data\n",
    "X_test = X_test / 255.0"
   ]
  },
  {
   "cell_type": "code",
   "execution_count": 3,
   "metadata": {},
   "outputs": [
    {
     "data": {
      "text/plain": [
       "array([7, 2, 1, ..., 4, 5, 6])"
      ]
     },
     "execution_count": 3,
     "metadata": {},
     "output_type": "execute_result"
    }
   ],
   "source": [
    "y_test\n"
   ]
  },
  {
   "cell_type": "code",
   "execution_count": 4,
   "metadata": {},
   "outputs": [],
   "source": [
    "def binary_classifier(a, digit):\n",
    "    ans=[]\n",
    "    for i in a:\n",
    "        if(i==digit):\n",
    "            ans.append(1)\n",
    "        else:\n",
    "            ans.append(0)\n",
    "    return ans\n",
    "\n",
    "# def check(y_test,digit)\n",
    "\n",
    "yTrainModified=[]\n",
    "for i in range(0,10):\n",
    "    yTrainModified.append(binary_classifier(y_train,i))\n",
    "\n",
    "yTestModified=[]\n",
    "for i in range(0,10):\n",
    "    yTestModified.append(binary_classifier(y_test,i))"
   ]
  },
  {
   "cell_type": "code",
   "execution_count": 11,
   "metadata": {},
   "outputs": [
    {
     "name": "stdout",
     "output_type": "stream",
     "text": [
      "Binary classfier for 0\n",
      "              precision    recall  f1-score   support\n",
      "\n",
      "           0       1.00      1.00      1.00      9020\n",
      "           1       0.98      0.99      0.99       980\n",
      "\n",
      "    accuracy                           1.00     10000\n",
      "   macro avg       0.99      0.99      0.99     10000\n",
      "weighted avg       1.00      1.00      1.00     10000\n",
      "\n",
      "\n",
      "Binary classfier for 1\n",
      "              precision    recall  f1-score   support\n",
      "\n",
      "           0       1.00      1.00      1.00      8865\n",
      "           1       0.99      0.99      0.99      1135\n",
      "\n",
      "    accuracy                           1.00     10000\n",
      "   macro avg       0.99      1.00      0.99     10000\n",
      "weighted avg       1.00      1.00      1.00     10000\n",
      "\n",
      "\n",
      "Binary classfier for 2\n",
      "              precision    recall  f1-score   support\n",
      "\n",
      "           0       1.00      1.00      1.00      8968\n",
      "           1       0.97      0.98      0.98      1032\n",
      "\n",
      "    accuracy                           1.00     10000\n",
      "   macro avg       0.99      0.99      0.99     10000\n",
      "weighted avg       1.00      1.00      1.00     10000\n",
      "\n",
      "\n",
      "Binary classfier for 3\n",
      "              precision    recall  f1-score   support\n",
      "\n",
      "           0       1.00      1.00      1.00      8990\n",
      "           1       0.97      0.99      0.98      1010\n",
      "\n",
      "    accuracy                           1.00     10000\n",
      "   macro avg       0.98      0.99      0.99     10000\n",
      "weighted avg       1.00      1.00      1.00     10000\n",
      "\n",
      "\n",
      "Binary classfier for 4\n",
      "              precision    recall  f1-score   support\n",
      "\n",
      "           0       1.00      1.00      1.00      9018\n",
      "           1       0.97      0.99      0.98       982\n",
      "\n",
      "    accuracy                           1.00     10000\n",
      "   macro avg       0.98      0.99      0.99     10000\n",
      "weighted avg       1.00      1.00      1.00     10000\n",
      "\n",
      "\n",
      "Binary classfier for 5\n",
      "              precision    recall  f1-score   support\n",
      "\n",
      "           0       1.00      1.00      1.00      9108\n",
      "           1       0.96      0.99      0.97       892\n",
      "\n",
      "    accuracy                           1.00     10000\n",
      "   macro avg       0.98      0.99      0.99     10000\n",
      "weighted avg       1.00      1.00      1.00     10000\n",
      "\n",
      "\n",
      "Binary classfier for 6\n",
      "              precision    recall  f1-score   support\n",
      "\n",
      "           0       1.00      1.00      1.00      9042\n",
      "           1       0.98      0.99      0.98       958\n",
      "\n",
      "    accuracy                           1.00     10000\n",
      "   macro avg       0.99      0.99      0.99     10000\n",
      "weighted avg       1.00      1.00      1.00     10000\n",
      "\n",
      "\n",
      "Binary classfier for 7\n",
      "              precision    recall  f1-score   support\n",
      "\n",
      "           0       1.00      1.00      1.00      8972\n",
      "           1       0.96      0.98      0.97      1028\n",
      "\n",
      "    accuracy                           0.99     10000\n",
      "   macro avg       0.98      0.99      0.98     10000\n",
      "weighted avg       0.99      0.99      0.99     10000\n",
      "\n",
      "\n",
      "Binary classfier for 8\n",
      "              precision    recall  f1-score   support\n",
      "\n",
      "           0       1.00      1.00      1.00      9026\n",
      "           1       0.96      0.98      0.97       974\n",
      "\n",
      "    accuracy                           0.99     10000\n",
      "   macro avg       0.98      0.99      0.98     10000\n",
      "weighted avg       0.99      0.99      0.99     10000\n",
      "\n",
      "\n",
      "Binary classfier for 9\n",
      "              precision    recall  f1-score   support\n",
      "\n",
      "           0       1.00      0.99      0.99      8991\n",
      "           1       0.93      0.98      0.95      1009\n",
      "\n",
      "    accuracy                           0.99     10000\n",
      "   macro avg       0.96      0.98      0.97     10000\n",
      "weighted avg       0.99      0.99      0.99     10000\n",
      "\n",
      "\n"
     ]
    }
   ],
   "source": [
    "for i in range(0,10):\n",
    "    print(\"Binary classfier for\",i)\n",
    "    SVM_classify=SVC(C=1,kernel='rbf',class_weight='balanced')\n",
    "    SVM_classify.fit(X_train[:60000],yTrainModified[i][:60000])\n",
    "    y_predict=SVM_classify.predict(X_test)\n",
    "    report=classification_report(yTestModified[i],y_predict)\n",
    "    print(report)\n",
    "    print()"
   ]
  },
  {
   "cell_type": "markdown",
   "metadata": {},
   "source": [
    "## Results:\n",
    "The most difficult digit to classify is 9 (has 93% accuracy which is the least for positives)"
   ]
  }
 ],
 "metadata": {
  "kernelspec": {
   "display_name": "Python 3 (ipykernel)",
   "language": "python",
   "name": "python3"
  },
  "language_info": {
   "codemirror_mode": {
    "name": "ipython",
    "version": 3
   },
   "file_extension": ".py",
   "mimetype": "text/x-python",
   "name": "python",
   "nbconvert_exporter": "python",
   "pygments_lexer": "ipython3",
   "version": "3.10.12"
  }
 },
 "nbformat": 4,
 "nbformat_minor": 4
}
